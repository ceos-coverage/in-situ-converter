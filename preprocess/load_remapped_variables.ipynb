{
 "cells": [
  {
   "cell_type": "code",
   "execution_count": 2,
   "metadata": {},
   "outputs": [
    {
     "name": "stdout",
     "output_type": "stream",
     "text": [
      "Finished wirting to remapped_variables.txt\n",
      "Finished wirting to mapped_name_to_depth_assignment.txt\n",
      "Finished wirting to varz_to_depth_assignment.txt\n",
      "Done.\n"
     ]
    }
   ],
   "source": [
    "import csv\n",
    "\n",
    "varz_to_mapped_name = {}\n",
    "mapped_name_to_depth_assignment = {}\n",
    "varz_to_depth_assignment = {}\n",
    "\n",
    "with open('spurs_variable_map.csv', newline='') as f:\n",
    "    reader = csv.reader(f)\n",
    "    for row in reader:\n",
    "        if len(row[4].strip()) > 0 and int(row[4].strip()) == 1: # select remapped variables\n",
    "            symbol = row[0].strip()\n",
    "            standard_name = row[1].strip()\n",
    "            mapped_name = row[2].strip()\n",
    "            key = symbol + '*' + standard_name\n",
    "            varz_to_mapped_name[key] = mapped_name\n",
    "            if len(row[5].strip()) > 0:\n",
    "                mapped_name_to_depth_assignment[mapped_name] = float(row[5].strip())\n",
    "                varz_to_depth_assignment[key] = float(row[5].strip())\n",
    "\n",
    "f = open('remapped_varialbes.txt', 'w')\n",
    "f.write('variable_name*standard_name : mapped_name\\n')\n",
    "for var in sorted(varz_to_mapped_name.keys()):\n",
    "    f.write(var + ' : ' + str(varz_to_mapped_name[var]) + '\\n')\n",
    "f.close()\n",
    "print ('Finished wirting to remapped_variables.txt')\n",
    "\n",
    "f = open('mapped_name_to_depth_assignment.txt', 'w')\n",
    "f.write('mapped_name : depth\\n')\n",
    "for k in sorted(mapped_name_to_depth_assignment.keys()):\n",
    "    f.write(k + ' : ' + str(mapped_name_to_depth_assignment[k]) + '\\n')\n",
    "f.close()\n",
    "print ('Finished wirting to mapped_name_to_depth_assignment.txt')\n",
    "\n",
    "f = open('varz_to_depth_assignment.txt', 'w')\n",
    "f.write('symbol*standard_name : depth\\n')\n",
    "for k in sorted(varz_to_depth_assignment.keys()):\n",
    "    f.write(k + ' : ' + str(varz_to_depth_assignment[k]) + '\\n')\n",
    "f.close()\n",
    "print ('Finished wirting to varz_to_depth_assignment.txt')\n",
    "\n",
    "\n",
    "print ('Done.')"
   ]
  },
  {
   "cell_type": "code",
   "execution_count": null,
   "metadata": {},
   "outputs": [],
   "source": []
  }
 ],
 "metadata": {
  "kernelspec": {
   "display_name": "Python 3",
   "language": "python",
   "name": "python3"
  },
  "language_info": {
   "codemirror_mode": {
    "name": "ipython",
    "version": 3
   },
   "file_extension": ".py",
   "mimetype": "text/x-python",
   "name": "python",
   "nbconvert_exporter": "python",
   "pygments_lexer": "ipython3",
   "version": "3.9.4"
  }
 },
 "nbformat": 4,
 "nbformat_minor": 4
}
