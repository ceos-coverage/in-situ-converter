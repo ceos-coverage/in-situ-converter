{
 "cells": [
  {
   "cell_type": "code",
   "execution_count": null,
   "id": "3f7adf6c",
   "metadata": {},
   "outputs": [],
   "source": [
    "import xarray as xr\n",
    "import netCDF4 as nc\n",
    "import pandas as pd\n",
    "import urllib.request\n",
    "from urllib.parse import urlparse\n",
    "import os, json, requests\n",
    "from bs4 import BeautifulSoup\n",
    "import ipywidgets as widgets\n",
    "from collections import defaultdict\n",
    "import re\n",
    "\n",
    "varz_to_mapped_name = {}\n",
    "mapped_names = set()\n",
    "skip = True\n",
    "with open(\"remapped_varialbes.txt\") as fp:\n",
    "    for line in fp:\n",
    "        if skip:\n",
    "            skip = False\n",
    "            continue\n",
    "        groups = re.match(r\"(.*) : (.*)\", line).groups()\n",
    "        varz_to_mapped_name[groups[0].strip()] = groups[1].strip()\n",
    "        mapped_names.add(groups[1].strip())\n",
    "sorted_mapped_names = sorted(mapped_names)\n",
    "print ('Finished reading remapped_varialbes.txt')\n",
    "\n"
   ]
  }
 ],
 "metadata": {
  "kernelspec": {
   "display_name": "Python 3",
   "language": "python",
   "name": "python3"
  },
  "language_info": {
   "codemirror_mode": {
    "name": "ipython",
    "version": 3
   },
   "file_extension": ".py",
   "mimetype": "text/x-python",
   "name": "python",
   "nbconvert_exporter": "python",
   "pygments_lexer": "ipython3",
   "version": "3.9.4"
  }
 },
 "nbformat": 4,
 "nbformat_minor": 5
}
