{
 "cells": [
  {
   "cell_type": "code",
   "execution_count": 2,
   "id": "84bf5278",
   "metadata": {},
   "outputs": [
    {
     "name": "stdout",
     "output_type": "stream",
     "text": [
      "Finished reading remapped_varialbes.txt - sorted_mapped_names: 64\n",
      "Done.\n"
     ]
    }
   ],
   "source": [
    "import xarray as xr\n",
    "import netCDF4 as nc\n",
    "import pandas as pd\n",
    "import urllib.request\n",
    "from urllib.parse import urlparse\n",
    "import os, json, requests\n",
    "from bs4 import BeautifulSoup\n",
    "import ipywidgets as widgets\n",
    "from collections import defaultdict\n",
    "import re\n",
    "\n",
    "varz_to_mapped_name = {}\n",
    "mapped_names = set()\n",
    "skip = True\n",
    "with open(\"remapped_varialbes.txt\") as fp:\n",
    "    for line in fp:\n",
    "        if skip:\n",
    "            skip = False\n",
    "            continue\n",
    "        groups = re.match(r\"(.*) : (.*)\", line).groups()\n",
    "        varz_to_mapped_name[groups[0].strip()] = groups[1].strip()\n",
    "        mapped_names.add(groups[1].strip())\n",
    "sorted_mapped_names = sorted(mapped_names)\n",
    "print ('Finished reading remapped_varialbes.txt - sorted_mapped_names: ' + str(len(sorted_mapped_names)))\n",
    "                \n",
    "all_coords = set()\n",
    "with open('all_coords.txt', 'r') as f:\n",
    "    for line in f:\n",
    "        coord = line.strip().lower()\n",
    "        s = 'coordinate_' + coord\n",
    "        if coord not in sorted_mapped_names and s not in all_coords:\n",
    "            all_coords.add(s)\n",
    "\n",
    "with open('header_coords_and_vars.txt', 'a') as f:\n",
    "    for coord in sorted(all_coords):\n",
    "        f.write(coord + '\\n')\n",
    "    for var in sorted_mapped_names:\n",
    "        f.write(var + '\\n')\n",
    "print ('Done.')\n",
    "        \n",
    "    "
   ]
  },
  {
   "cell_type": "code",
   "execution_count": null,
   "id": "8cafe53b",
   "metadata": {},
   "outputs": [],
   "source": []
  }
 ],
 "metadata": {
  "kernelspec": {
   "display_name": "Python 3",
   "language": "python",
   "name": "python3"
  },
  "language_info": {
   "codemirror_mode": {
    "name": "ipython",
    "version": 3
   },
   "file_extension": ".py",
   "mimetype": "text/x-python",
   "name": "python",
   "nbconvert_exporter": "python",
   "pygments_lexer": "ipython3",
   "version": "3.9.4"
  }
 },
 "nbformat": 4,
 "nbformat_minor": 5
}
