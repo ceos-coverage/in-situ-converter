{
 "cells": [
  {
   "cell_type": "code",
   "execution_count": 4,
   "id": "29649a0d",
   "metadata": {},
   "outputs": [
    {
     "name": "stdout",
     "output_type": "stream",
     "text": [
      "Finished reading varz_to_depth_assignment.txt - sorted_depth_assignments: 19\n",
      "-10.0,-2.0,-5.0,0.0,0.01,0.05,0.18,0.26,0.36,1.0,10.0,12.0,18.0,2.0,23.0,3.0,37.0,5.0,54.0\n",
      "Finished writing unique_depth_assignment_cols.txt\n",
      "Done.\n"
     ]
    }
   ],
   "source": [
    "# Read varz_to_depth_assignment (symbol * standard_name : depth_assignment) to populate unique depth assignments (to be used in csv_header_cols).\n",
    "import re\n",
    "\n",
    "varz_to_depth_assignment = {}\n",
    "depth_assignments = set()\n",
    "skip = True\n",
    "with open(\"varz_to_depth_assignment.txt\") as fp:\n",
    "    for line in fp:\n",
    "        if skip:\n",
    "            skip = False\n",
    "            continue\n",
    "        groups = re.match(r\"(.*) : (.*)\", line).groups()\n",
    "        varz_to_depth_assignment[groups[0].strip()] = groups[1].strip()\n",
    "        depth_assignments.add(groups[1].strip())\n",
    "sorted_depth_assignments = sorted(depth_assignments)\n",
    "print ('Finished reading varz_to_depth_assignment.txt - sorted_depth_assignments: ' + str(len(sorted_depth_assignments)))\n",
    "                \n",
    "print (','.join(sorted_depth_assignments))\n",
    "\n",
    "# 'unique_depth_assignment_cols.txt'\n",
    "with open('unique_depth_assignment_cols.txt', 'w') as fp:\n",
    "    for unique_depth in sorted_depth_assignments:\n",
    "        fp.write('coordinate_depth_' + str(unique_depth) + '\\n')\n",
    "print ('Finished writing unique_depth_assignment_cols.txt')\n",
    "\n",
    "print ('Done.')"
   ]
  },
  {
   "cell_type": "code",
   "execution_count": null,
   "id": "9010fd67",
   "metadata": {},
   "outputs": [],
   "source": []
  }
 ],
 "metadata": {
  "kernelspec": {
   "display_name": "Python 3",
   "language": "python",
   "name": "python3"
  },
  "language_info": {
   "codemirror_mode": {
    "name": "ipython",
    "version": 3
   },
   "file_extension": ".py",
   "mimetype": "text/x-python",
   "name": "python",
   "nbconvert_exporter": "python",
   "pygments_lexer": "ipython3",
   "version": "3.9.4"
  }
 },
 "nbformat": 4,
 "nbformat_minor": 5
}
