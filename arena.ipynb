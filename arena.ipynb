{
 "cells": [
  {
   "cell_type": "code",
   "execution_count": 13,
   "id": "fa6c56ec",
   "metadata": {},
   "outputs": [
    {
     "name": "stdout",
     "output_type": "stream",
     "text": [
      "Frozen(SortedKeysDict({'trajectory': 1, 'time': 8618, 'depth': 80}))\n",
      "after chunk\n",
      "Frozen(SortedKeysDict({}))\n",
      "before dd creation\n",
      "after dd creation\n",
      "dd - before normalizing time\n",
      "dd - after normalizing time\n"
     ]
    }
   ],
   "source": [
    "import xarray as xr\n",
    "import dask.dataframe\n",
    "import pandas as pd\n",
    "from datetime import datetime\n",
    "\n",
    "base_dir = 'netcdf/'\n",
    "file_name = 'SPURS_Endeavor_ADCP_os75bb'\n",
    "netcdf_data = xr.open_dataset(base_dir + file_name,decode_times=False)\n",
    "\n",
    "# print (netcdf_data)\n",
    "\n",
    "print (netcdf_data.dims)\n",
    "netcdf_data.chunk({'time' : 100})\n",
    "print ('after chunk')\n",
    "print (netcdf_data.chunks)\n",
    "\n",
    "\n",
    "time_var = 'time'\n",
    "time_origin=netcdf_data[time_var].units.split(' ')[2] # 1950-01-01\n",
    "if netcdf_data[time_var].units.split(' ')[0] == 'seconds':\n",
    "    time_unit = 's'\n",
    "else:\n",
    "    time_unit='d'\n",
    "\n",
    "print ('before dd creation')\n",
    "# dd = netcdf_data.to_dask_dataframe()\n",
    "print ('after dd creation')\n",
    "\n",
    "print ('dd - before normalizing time')\n",
    "# print (dd[time_var].head())\n",
    "# dd[time_var] = dd[time_var].map(lambda ts: datetime.fromtimestamp(ts))\n",
    "print ('dd - after normalizing time')\n",
    "# print (dd[time_var].head())\n"
   ]
  },
  {
   "cell_type": "code",
   "execution_count": null,
   "id": "e2a8b509",
   "metadata": {},
   "outputs": [],
   "source": [
    "print ('Number of rows: ' + str(len(dd)))"
   ]
  },
  {
   "cell_type": "code",
   "execution_count": null,
   "id": "26ce2c25",
   "metadata": {},
   "outputs": [],
   "source": [
    "dd.npartitions"
   ]
  },
  {
   "cell_type": "code",
   "execution_count": null,
   "id": "6973a51d",
   "metadata": {},
   "outputs": [],
   "source": [
    "dd.head()"
   ]
  },
  {
   "cell_type": "code",
   "execution_count": null,
   "id": "be575c2f",
   "metadata": {},
   "outputs": [],
   "source": [
    "df.head()"
   ]
  },
  {
   "cell_type": "code",
   "execution_count": null,
   "id": "19999219",
   "metadata": {},
   "outputs": [],
   "source": [
    "from datetime import datetime\n",
    "\n",
    "a = 1.363364e+09\n",
    "\n",
    "print (ts)"
   ]
  },
  {
   "cell_type": "code",
   "execution_count": null,
   "id": "f0d41647",
   "metadata": {},
   "outputs": [],
   "source": []
  }
 ],
 "metadata": {
  "kernelspec": {
   "display_name": "Python 3",
   "language": "python",
   "name": "python3"
  },
  "language_info": {
   "codemirror_mode": {
    "name": "ipython",
    "version": 3
   },
   "file_extension": ".py",
   "mimetype": "text/x-python",
   "name": "python",
   "nbconvert_exporter": "python",
   "pygments_lexer": "ipython3",
   "version": "3.9.4"
  }
 },
 "nbformat": 4,
 "nbformat_minor": 5
}
