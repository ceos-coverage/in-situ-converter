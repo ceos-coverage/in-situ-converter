{
 "cells": [
  {
   "cell_type": "code",
   "execution_count": null,
   "metadata": {},
   "outputs": [],
   "source": [
    "import requests; \n",
    "from bs4 import BeautifulSoup; \n",
    "import pandas as pd; \n",
    "import os; \n",
    "from datetime import datetime; \n",
    "import json; "
   ]
  },
  {
   "cell_type": "code",
   "execution_count": 73,
   "metadata": {},
   "outputs": [],
   "source": [
    "urls = [\"https://opendap.jpl.nasa.gov/opendap/allData/insitu/L2/spurs1/contents.html\",\n",
    "        \"https://opendap.jpl.nasa.gov/opendap/allData/insitu/L2/spurs2/contents.html\"]\n",
    "fileFolder = \"data\"\n",
    "if not os.path.exists(fileFolder): \n",
    "    os.makedirs(fileFolder)"
   ]
  },
  {
   "cell_type": "code",
   "execution_count": 85,
   "metadata": {},
   "outputs": [],
   "source": [
    "def getbaseurl(url): \n",
    "    return \"/\".join(url.split(\"/\")[:-1])\n",
    "def getfileurls(url): \n",
    "    res = requests.get(url)\n",
    "    soup = BeautifulSoup(res.text)\n",
    "    directoryurls = [getbaseurl(url)+\"/\"+tr.find(\"a\")[\"href\"] for tr in soup.find(\"table\").findAll(\"tr\",recursive=False) if tr.attrs == {} and tr.find(\"a\")]\n",
    "    fileUrls = []; \n",
    "    print(\"directory url count -> \",len(directoryurls))\n",
    "    for idx,dirurl in enumerate(directoryurls): \n",
    "        print(idx,\"->\",dirurl)\n",
    "        res2 = requests.get(dirurl)\n",
    "        soup2 = BeautifulSoup(res2.text)\n",
    "        fileUrls += [getbaseurl(dirurl)+\"/\"+tr.find(\"span\",attrs={\"itemprop\" : \"name\"}).text for tr in soup2.find(\"table\").findAll(\"tr\",recursive=False) if tr.find(\"span\",attrs={\"itemprop\" : \"name\"}) ]\n",
    "    return fileUrls; "
   ]
  },
  {
   "cell_type": "code",
   "execution_count": 86,
   "metadata": {
    "scrolled": true
   },
   "outputs": [
    {
     "name": "stdout",
     "output_type": "stream",
     "text": [
      "directory url count ->  16\n",
      "0 -> https://opendap.jpl.nasa.gov/opendap/allData/insitu/L2/spurs1/adcp/contents.html\n",
      "1 -> https://opendap.jpl.nasa.gov/opendap/allData/insitu/L2/spurs1/argo/contents.html\n",
      "directory url count ->  24\n",
      "0 -> https://opendap.jpl.nasa.gov/opendap/allData/insitu/L2/spurs2/adcp/contents.html\n",
      "1 -> https://opendap.jpl.nasa.gov/opendap/allData/insitu/L2/spurs2/argo/contents.html\n"
     ]
    }
   ],
   "source": [
    "fileurls = []\n",
    "for u in urls : \n",
    "    fileurls += getfileurls(u)"
   ]
  },
  {
   "cell_type": "code",
   "execution_count": null,
   "metadata": {},
   "outputs": [],
   "source": [
    "with open(\"filelinks.json\",\"w\") as f : \n",
    "    json.dump(fileurls,f,indent=4); "
   ]
  },
  {
   "cell_type": "code",
   "execution_count": null,
   "metadata": {},
   "outputs": [
    {
     "name": "stdout",
     "output_type": "stream",
     "text": [
      "2021-07-25 11:40:03.195518 :  0 / 1932  downloading file ->  https://opendap.jpl.nasa.gov/opendap/allData/insitu/L2/spurs1/adcp/SPURS_Endeavor_ADCP_os75bb.nc\n",
      "2021-07-25 11:41:16.434361 :  1 / 1932  downloading file ->  https://opendap.jpl.nasa.gov/opendap/allData/insitu/L2/spurs1/adcp/SPURS_Endeavor_ADCP_os75nb.nc\n",
      "2021-07-25 11:42:11.890987 :  2 / 1932  downloading file ->  https://opendap.jpl.nasa.gov/opendap/allData/insitu/L2/spurs1/adcp/SPURS_Endeavor_ADCP_wh300.nc\n",
      "2021-07-25 11:44:52.530752 :  3 / 1932  downloading file ->  https://opendap.jpl.nasa.gov/opendap/allData/insitu/L2/spurs1/adcp/SPURS_endeavor2_ADCP_os75bb.nc\n",
      "2021-07-25 11:45:26.719353 :  4 / 1932  downloading file ->  https://opendap.jpl.nasa.gov/opendap/allData/insitu/L2/spurs1/adcp/SPURS_endeavor2_ADCP_os75nb.nc\n",
      "2021-07-25 11:46:05.913047 :  5 / 1932  downloading file ->  https://opendap.jpl.nasa.gov/opendap/allData/insitu/L2/spurs1/adcp/SPURS_endeavor2_ADCP_wh300.nc\n",
      "2021-07-25 11:47:49.464641 :  6 / 1932  downloading file ->  https://opendap.jpl.nasa.gov/opendap/allData/insitu/L2/spurs1/adcp/SPURS_knorr_ADCP_os75bb.nc\n",
      "2021-07-25 11:49:02.448301 :  7 / 1932  downloading file ->  https://opendap.jpl.nasa.gov/opendap/allData/insitu/L2/spurs1/adcp/SPURS_knorr_ADCP_os75nb.nc\n"
     ]
    }
   ],
   "source": [
    "for idx,fileurl in enumerate(fileurls) : \n",
    "    filename = \"%s/%s\" %(fileFolder,fileurl.split(\"/\")[-1]);\n",
    "    print(datetime.now(),\": \",idx,\"/\",len(fileurls),\" downloading file -> \",fileurl)\n",
    "    if not os.path.exists(filename): \n",
    "        res = requests.get(fileurl);  \n",
    "        with open(filename,\"wb\") as f: \n",
    "            f.write(res.content)"
   ]
  },
  {
   "cell_type": "code",
   "execution_count": null,
   "metadata": {},
   "outputs": [],
   "source": []
  }
 ],
 "metadata": {
  "anaconda-cloud": {},
  "kernelspec": {
   "display_name": "Python 3",
   "language": "python",
   "name": "python3"
  },
  "language_info": {
   "codemirror_mode": {
    "name": "ipython",
    "version": 3
   },
   "file_extension": ".py",
   "mimetype": "text/x-python",
   "name": "python",
   "nbconvert_exporter": "python",
   "pygments_lexer": "ipython3",
   "version": "3.6.2"
  }
 },
 "nbformat": 4,
 "nbformat_minor": 2
}
