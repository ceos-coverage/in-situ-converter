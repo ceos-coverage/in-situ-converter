{
 "cells": [
  {
   "cell_type": "code",
   "execution_count": 37,
   "id": "533497c6",
   "metadata": {
    "scrolled": true
   },
   "outputs": [],
   "source": [
    "import xarray as xr\n",
    "import dask.dataframe\n",
    "\n",
    "file_name = 'SPURS_Endeavor_ADCP_os75bb' # ''\n",
    "netcdf_data = xr.open_dataset(file_name,decode_times=False,chunks=\"auto\")"
   ]
  },
  {
   "cell_type": "code",
   "execution_count": 41,
   "id": "74c55534",
   "metadata": {},
   "outputs": [
    {
     "data": {
      "text/plain": [
       "{'time': 100}"
      ]
     },
     "execution_count": 41,
     "metadata": {},
     "output_type": "execute_result"
    }
   ],
   "source": [
    "chunksize = 100\n",
    "chunkprams = {}\n",
    "for k,v in dict(netcdf_data.dims).items():\n",
    "    if v > chunksize : \n",
    "        chunkprams[k] =chunksize\n",
    "chunkprams"
   ]
  },
  {
   "cell_type": "code",
   "execution_count": 39,
   "id": "f0ac1ebf",
   "metadata": {},
   "outputs": [],
   "source": [
    "netcdf_data = netcdf_data.chunk(chunkprams)"
   ]
  },
  {
   "cell_type": "code",
   "execution_count": null,
   "id": "96d39138",
   "metadata": {},
   "outputs": [],
   "source": []
  }
 ],
 "metadata": {
  "anaconda-cloud": {},
  "kernelspec": {
   "display_name": "Python 3",
   "language": "python",
   "name": "python3"
  },
  "language_info": {
   "codemirror_mode": {
    "name": "ipython",
    "version": 3
   },
   "file_extension": ".py",
   "mimetype": "text/x-python",
   "name": "python",
   "nbconvert_exporter": "python",
   "pygments_lexer": "ipython3",
   "version": "3.9.4"
  }
 },
 "nbformat": 4,
 "nbformat_minor": 5
}
